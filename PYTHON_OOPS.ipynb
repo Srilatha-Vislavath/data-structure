{
  "nbformat": 4,
  "nbformat_minor": 0,
  "metadata": {
    "colab": {
      "provenance": []
    },
    "kernelspec": {
      "name": "python3",
      "display_name": "Python 3"
    },
    "language_info": {
      "name": "python"
    }
  },
  "cells": [
    {
      "cell_type": "markdown",
      "source": [
        "1. What is Object-Oriented Programming (OOP)\n",
        "\n",
        "A. Object-Oriented Programming (OOP) is a programming paradigm that organizes software design around objects rather than functions or logic. Objects represent real-world entities and combine data (attributes) and behaviors (methods) into a single unit. OOP promotes concepts like encapsulation (bundling data and methods), inheritance (creating new classes from existing ones), polymorphism (using a unified interface for different data types), and abstraction (hiding complex details). This approach makes code more modular, reusable, and easier to maintain."
      ],
      "metadata": {
        "id": "1LpPCFukDUA3"
      }
    },
    {
      "cell_type": "markdown",
      "source": [
        "2. What is a class in OOP\n",
        "\n",
        "A. A class in Object-Oriented Programming (OOP) is a blueprint or template for creating objects. It defines a set of attributes (data) and methods (functions) that the objects created from the class will have. Essentially, a class encapsulates data and behavior together, allowing you to create multiple instances (objects) that share the same structure and functionality but can have different individual values. Classes help organize code and model real-world entities in a structured way."
      ],
      "metadata": {
        "id": "r2Y1biwSDfPW"
      }
    },
    {
      "cell_type": "markdown",
      "source": [
        "3.  What is an object in OOP\n",
        "\n",
        "A. An object in Object-Oriented Programming (OOP) is an instance of a class that represents a specific entity with its own unique data and behaviors. It combines the attributes (state) defined by the class with methods (functions) that operate on that data. Objects interact with each other and are the fundamental building blocks in OOP, allowing programs to model real-world things and their actions in a modular and organized way."
      ],
      "metadata": {
        "id": "cMGcdQPhDs53"
      }
    },
    {
      "cell_type": "markdown",
      "source": [
        "4. What is the difference between abstraction and encapsulation\n",
        "\n",
        "A. Abstraction in OOP means hiding the complex details of how something works and showing only the necessary features, making it easier to use. Encapsulation, on the other hand, bundles the data and methods inside a class and restricts direct access to the internal state, protecting it from unintended changes. While abstraction focuses on simplifying the interface, encapsulation focuses on safeguarding the data.\n",
        "\n",
        "\n",
        "\n",
        "\n",
        "\n",
        "\n",
        "\n",
        "\n"
      ],
      "metadata": {
        "id": "XEMb9aTOD08q"
      }
    },
    {
      "cell_type": "markdown",
      "source": [
        "5. What are dunder methods in Python\n",
        "\n",
        "A. Dunder methods in Python, short for “double underscore” methods, are special built-in methods with names that start and end with double underscores (like __init__, __str__, or __add__). They allow you to define or customize the behavior of your classes for built-in operations, such as object creation, string representation, arithmetic, and comparisons. By implementing dunder methods, you can make your objects behave like built-in Python types and integrate seamlessly with Python’s syntax and functions."
      ],
      "metadata": {
        "id": "VLvTlx-LEDfz"
      }
    },
    {
      "cell_type": "markdown",
      "source": [
        "6.  Explain the concept of inheritance in OOP\n",
        "\n",
        "A. Inheritance in Object-Oriented Programming (OOP) is a mechanism where a new class, called a child or subclass, derives properties and behaviors (attributes and methods) from an existing class, known as the parent or superclass. This allows the child class to reuse, extend, or modify the functionality of the parent class, promoting code reuse and hierarchical relationships between classes. Inheritance helps create more organized and maintainable code by modeling real-world “is-a” relationships.\n",
        "\n",
        "\n",
        "\n",
        "\n",
        "\n",
        "\n",
        "\n",
        "\n"
      ],
      "metadata": {
        "id": "Z8QUhv0sEKSK"
      }
    },
    {
      "cell_type": "markdown",
      "source": [
        "7. What is polymorphism in OOP\n",
        "\n",
        "A. Polymorphism in Object-Oriented Programming (OOP) is the ability of different objects to respond to the same method or function call in different ways. It allows methods with the same name to behave differently based on the object that invokes them. This enables flexibility and extensibility in code, as the same interface can work with different underlying data types or classes, supporting concepts like method overriding and operator overloading."
      ],
      "metadata": {
        "id": "ebijJ-fzEVSA"
      }
    },
    {
      "cell_type": "markdown",
      "source": [
        "8. How is encapsulation achieved in Python\n",
        "\n",
        "A. Encapsulation in Python is achieved by controlling access to an object’s internal data using naming conventions. Attributes prefixed with a single underscore (e.g., _var) are treated as protected by convention, while those with double underscores (e.g., __var) use name mangling to make them harder to access directly, simulating private variables. Although Python does not enforce strict access restrictions, these practices, along with getter and setter methods or property decorators, help safeguard data and promote controlled interaction with an object’s attributes."
      ],
      "metadata": {
        "id": "5ylpsYkaEdKE"
      }
    },
    {
      "cell_type": "markdown",
      "source": [
        "9. What is a constructor in Python\n",
        "\n",
        "A. A constructor in Python is a special method named __init__ that is automatically called when a new object of a class is created. It is used to initialize the object's attributes with specific values and set up any necessary state. The constructor allows you to customize the creation of objects by passing arguments during instantiation.\n",
        "\n",
        "\n",
        "\n",
        "\n",
        "\n",
        "\n",
        "\n",
        "\n"
      ],
      "metadata": {
        "id": "Qb-y3_vNElc6"
      }
    },
    {
      "cell_type": "markdown",
      "source": [
        "10. What are class and static methods in Python\n",
        "A. Class methods in Python are defined with the @classmethod decorator and receive the class (cls) as their first argument, allowing them to access or modify class-level data. They are often used for tasks related to the class itself rather than individual instances. Static methods, marked with the @staticmethod decorator, don’t receive any automatic first argument and behave like regular functions placed inside a class. They are used for functionality related to the class but that doesn’t require access to instance or class-specific data."
      ],
      "metadata": {
        "id": "HtgNELf5EsOc"
      }
    },
    {
      "cell_type": "markdown",
      "source": [
        "11.  What is method overloading in Python\n",
        "\n",
        "A. Method overloading is the ability to define multiple methods with the same name but different parameters in a class. However, Python does not support method overloading in the traditional sense like some other languages (e.g., Java or C++). In Python, if you define multiple methods with the same name, the latest definition overrides the previous ones. Instead, Python achieves similar behavior using default arguments, variable-length arguments (*args, **kwargs), or by manually checking argument types inside a single method."
      ],
      "metadata": {
        "id": "WE3IVmEAE6Bt"
      }
    },
    {
      "cell_type": "markdown",
      "source": [
        "12.  What is method overriding in OOP\n",
        "\n",
        "A. Method overriding in Object-Oriented Programming (OOP) occurs when a subclass provides its own implementation of a method that is already defined in its parent class. This allows the subclass to customize or extend the behavior of that method while keeping the same method name. Overriding is key to achieving polymorphism, as it lets objects of different classes respond differently to the same method call."
      ],
      "metadata": {
        "id": "U45x36tcFDHN"
      }
    },
    {
      "cell_type": "markdown",
      "source": [
        "13. What is a property decorator in Python\n",
        "\n",
        "A. A property decorator in Python, written as @property, is used to define a method in a class that behaves like an attribute. It allows you to access methods like attributes, enabling controlled access to private variables without directly exposing them. Using @property, you can add logic when getting, setting, or deleting an attribute, making your code cleaner and more intuitive while maintaining encapsulation."
      ],
      "metadata": {
        "id": "TgfsXu7nFMN7"
      }
    },
    {
      "cell_type": "markdown",
      "source": [
        "14. Why is polymorphism important in OOP\n",
        "\n",
        "A. Polymorphism is important in OOP because it allows objects of different classes to be treated through a common interface, enabling flexible and reusable code. It lets the same method name work differently depending on the object calling it, which simplifies code maintenance and enhances extensibility. Polymorphism supports designing systems that can easily accommodate new behaviors without changing existing code, making programs more scalable and adaptable."
      ],
      "metadata": {
        "id": "hSaAua1OFcOu"
      }
    },
    {
      "cell_type": "markdown",
      "source": [
        "15. What is an abstract class in Python\n",
        "\n",
        "A. An abstract class in Python is a class that cannot be instantiated on its own and is meant to be subclassed. It defines one or more abstract methods—methods declared but without implementation—that subclasses are required to override. Abstract classes are created using the abc module and the @abstractmethod decorator, helping enforce a common interface and ensuring that derived classes implement specific functionality."
      ],
      "metadata": {
        "id": "emO15eyuF4--"
      }
    },
    {
      "cell_type": "markdown",
      "source": [
        "16. What are the advantages of OOP\n",
        "\n",
        "A. The advantages of Object-Oriented Programming (OOP) include improved code reusability through inheritance, which allows new classes to build upon existing ones; enhanced modularity by organizing code into objects that encapsulate data and behavior; better maintainability since changes in one part of the system can be isolated; increased flexibility and scalability through polymorphism and abstraction; and a clearer, more natural way to model real-world problems, making programs easier to design and understand."
      ],
      "metadata": {
        "id": "SHpEo_b9GKCl"
      }
    },
    {
      "cell_type": "markdown",
      "source": [
        "17. What is the difference between a class variable and an instance variable\n",
        "\n",
        "A. A class variable is shared by all instances of a class; it belongs to the class itself and has the same value for every object unless explicitly changed. In contrast, an instance variable is unique to each object and stores data specific to that particular instance. While class variables define properties common to all objects, instance variables hold data that varies between different objects of the class."
      ],
      "metadata": {
        "id": "8VOz847-GP_A"
      }
    },
    {
      "cell_type": "markdown",
      "source": [
        "18. What is multiple inheritance in Python\n",
        "\n",
        "A. Multiple inheritance in Python is a feature where a class can inherit attributes and methods from more than one parent class. This allows the child class to combine and reuse functionalities from multiple classes, enabling more flexible and powerful class designs. However, it also requires careful handling of method resolution order (MRO) to avoid conflicts when different parents have methods with the same name."
      ],
      "metadata": {
        "id": "KZ41pZDOGWI_"
      }
    },
    {
      "cell_type": "markdown",
      "source": [
        "19. Explain the purpose of ‘’__str__’ and ‘__repr__’ ‘ methods in Python\n",
        "\n",
        "A. The __str__ and __repr__ methods in Python are both used to provide string representations of an object but serve different purposes:\n",
        "\n",
        "__str__ is meant to return a readable, user-friendly string representation of the object, used by functions like print() and str(). It focuses on making the output easy to understand.\n",
        "\n",
        "__repr__ is intended to return an unambiguous and detailed string representation that can ideally be used to recreate the object. It’s mainly for developers and used by the repr() function and in debugging.\n",
        "\n",
        "If __str__ is not defined, Python falls back to using __repr__ when printing an object."
      ],
      "metadata": {
        "id": "51hAa3rvGc3k"
      }
    },
    {
      "cell_type": "markdown",
      "source": [
        "20.  What is the significance of the ‘super()’ function in Python\n",
        "\n",
        "A. The super() function in Python is used to call a method from a parent (or superclass) inside a subclass. It allows you to access and extend the behavior of inherited methods without explicitly naming the parent class, which helps with code maintainability and supports multiple inheritance by following the method resolution order (MRO). super() is commonly used in constructors (__init__) to ensure proper initialization of parent classes."
      ],
      "metadata": {
        "id": "DajT7-jvGokU"
      }
    },
    {
      "cell_type": "markdown",
      "source": [
        "21. What is the significance of the __del__ method in Python\n",
        "\n",
        "A. The __del__ method in Python is a special destructor method that is called when an object is about to be destroyed or garbage collected. It allows you to define cleanup actions, such as closing files or releasing resources, before the object is removed from memory. However, relying on __del__ is generally discouraged because the exact time when it is called is unpredictable due to Python’s garbage collection mechanism."
      ],
      "metadata": {
        "id": "1bSJ4wH-Gw46"
      }
    },
    {
      "cell_type": "markdown",
      "source": [
        "22. What is the difference between @staticmethod and @classmethod in Python\n",
        "\n",
        "A. The difference between @staticmethod and @classmethod in Python lies in their access to class and instance data:\n",
        "\n",
        "A @staticmethod does not take any special first parameter (neither self nor cls). It behaves like a regular function but lives inside the class’s namespace. It cannot access or modify the class or instance state. Use it for utility functions related to the class.\n",
        "\n",
        "A @classmethod takes the class (cls) as its first parameter and can access or modify class-level attributes. It is often used for factory methods or methods that affect the class as a whole."
      ],
      "metadata": {
        "id": "AS4tSvP3G5cf"
      }
    },
    {
      "cell_type": "markdown",
      "source": [
        "23. How does polymorphism work in Python with inheritance\n",
        "\n",
        "A. Polymorphism in Python with inheritance works by allowing a subclass to override methods defined in its parent class, so that when a method is called on an object, the version corresponding to the object’s actual class is executed. This means you can write code that works with objects of the parent class but will automatically use the subclass’s specific behavior. It enables flexible and reusable code where the same interface triggers different underlying implementations depending on the object’s type."
      ],
      "metadata": {
        "id": "-qxQzkaSHCUe"
      }
    },
    {
      "cell_type": "markdown",
      "source": [
        "24. H What is method chaining in Python OOP\n",
        "\n",
        "A. Method chaining in Python OOP is a technique where multiple methods are called sequentially on the same object in a single line of code. Each method returns the object itself (usually self), allowing the next method to be invoked directly. This makes the code more concise and readable by linking several operations together smoothly."
      ],
      "metadata": {
        "id": "Uwvtgk7EHPH4"
      }
    },
    {
      "cell_type": "markdown",
      "source": [
        "25.  What is the purpose of the __call__ method in Python\n",
        "\n",
        "A. The __call__ method in Python allows an instance of a class to be called like a regular function. When you define __call__ in a class, you can use the object itself with parentheses and arguments, triggering the __call__ method. This can be useful for creating objects that behave like functions, enabling more flexible and intuitive interfaces.\n",
        "\n",
        "\n",
        "\n",
        "\n",
        "\n",
        "\n",
        "\n",
        "\n"
      ],
      "metadata": {
        "id": "3F3lX0lpHWlu"
      }
    },
    {
      "cell_type": "code",
      "source": [
        "#1. Create a parent class Animal with a method speak() that prints a generic message. Create a child class Dog\n",
        "#that overrides the speak() method to print \"Bark!\".\n",
        "class Animal:\n",
        "    def speak(self):\n",
        "        print(\"This animal makes a sound.\")\n",
        "\n",
        "class Dog(Animal):\n",
        "    def speak(self):\n",
        "        print(\"Bark!\")\n",
        "\n",
        "# Example usage:\n",
        "animal = Animal()\n",
        "animal.speak()  # Output: This animal makes a sound.\n",
        "\n",
        "dog = Dog()\n",
        "dog.speak()     # Output: Bark!\n"
      ],
      "metadata": {
        "colab": {
          "base_uri": "https://localhost:8080/"
        },
        "id": "rHo4VnxUHfhL",
        "outputId": "0750e823-27b3-4716-d15b-243f8825bc0c"
      },
      "execution_count": 1,
      "outputs": [
        {
          "output_type": "stream",
          "name": "stdout",
          "text": [
            "This animal makes a sound.\n",
            "Bark!\n"
          ]
        }
      ]
    },
    {
      "cell_type": "code",
      "source": [
        "#2.  Write a program to create an abstract class Shape with a method area(). Derive classes Circle and Rectangle\n",
        "#from it and implement the area() method in both.\n",
        "from abc import ABC, abstractmethod\n",
        "import math\n",
        "\n",
        "class Shape(ABC):\n",
        "    @abstractmethod\n",
        "    def area(self):\n",
        "        pass\n",
        "\n",
        "class Circle(Shape):\n",
        "    def __init__(self, radius):\n",
        "        self.radius = radius\n",
        "\n",
        "    def area(self):\n",
        "        return math.pi * self.radius ** 2\n",
        "\n",
        "class Rectangle(Shape):\n",
        "    def __init__(self, width, height):\n",
        "        self.width = width\n",
        "        self.height = height\n",
        "\n",
        "    def area(self):\n",
        "        return self.width * self.height\n",
        "\n",
        "# Example usage:\n",
        "circle = Circle(5)\n",
        "print(\"Circle area:\", circle.area())  # Circle area: 78.53981633974483\n",
        "\n",
        "rectangle = Rectangle(4, 6)\n",
        "print(\"Rectangle area:\", rectangle.area())  # Rectangle area: 24\n"
      ],
      "metadata": {
        "colab": {
          "base_uri": "https://localhost:8080/"
        },
        "id": "rTu3JuiaH50f",
        "outputId": "ade9224c-3de1-4af2-c36f-3959303ffd78"
      },
      "execution_count": 2,
      "outputs": [
        {
          "output_type": "stream",
          "name": "stdout",
          "text": [
            "Circle area: 78.53981633974483\n",
            "Rectangle area: 24\n"
          ]
        }
      ]
    },
    {
      "cell_type": "code",
      "source": [
        "#3. Implement a multi-level inheritance scenario where a class Vehicle has an attribute type. Derive a class Car\n",
        "#and further derive a class ElectricCar that adds a battery attribute.\n",
        "class Vehicle:\n",
        "    def __init__(self, vehicle_type):\n",
        "        self.type = vehicle_type\n",
        "\n",
        "class Car(Vehicle):\n",
        "    def __init__(self, vehicle_type, brand):\n",
        "        super().__init__(vehicle_type)\n",
        "        self.brand = brand\n",
        "\n",
        "class ElectricCar(Car):\n",
        "    def __init__(self, vehicle_type, brand, battery_capacity):\n",
        "        super().__init__(vehicle_type, brand)\n",
        "        self.battery = battery_capacity\n",
        "\n",
        "# Example usage:\n",
        "ev = ElectricCar(\"Car\", \"Tesla\", \"100 kWh\")\n",
        "print(f\"Type: {ev.type}\")          # Output: Type: Car\n",
        "print(f\"Brand: {ev.brand}\")        # Output: Brand: Tesla\n",
        "print(f\"Battery: {ev.battery}\")    # Output: Battery: 100 kWh\n"
      ],
      "metadata": {
        "colab": {
          "base_uri": "https://localhost:8080/"
        },
        "id": "mGw51xVdIHfl",
        "outputId": "a4960899-bc31-4acc-8577-24069db03039"
      },
      "execution_count": 3,
      "outputs": [
        {
          "output_type": "stream",
          "name": "stdout",
          "text": [
            "Type: Car\n",
            "Brand: Tesla\n",
            "Battery: 100 kWh\n"
          ]
        }
      ]
    },
    {
      "cell_type": "code",
      "source": [
        "#4.  Demonstrate polymorphism by creating a base class Bird with a method fly(). Create two derived classes\n",
        "#Sparrow and Penguin that override the fly() method.\n",
        "class Bird:\n",
        "    def fly(self):\n",
        "        print(\"This bird can fly.\")\n",
        "\n",
        "class Sparrow(Bird):\n",
        "    def fly(self):\n",
        "        print(\"Sparrow is flying.\")\n",
        "\n",
        "class Penguin(Bird):\n",
        "    def fly(self):\n",
        "        print(\"Penguins cannot fly.\")\n",
        "\n",
        "# Example usage:\n",
        "birds = [Sparrow(), Penguin()]\n",
        "\n",
        "for bird in birds:\n",
        "    bird.fly()\n",
        "\n"
      ],
      "metadata": {
        "colab": {
          "base_uri": "https://localhost:8080/"
        },
        "id": "mLdZ2EjaIWzp",
        "outputId": "937fe1b2-4859-40a2-9e98-ea15e27c8662"
      },
      "execution_count": 4,
      "outputs": [
        {
          "output_type": "stream",
          "name": "stdout",
          "text": [
            "Sparrow is flying.\n",
            "Penguins cannot fly.\n"
          ]
        }
      ]
    },
    {
      "cell_type": "code",
      "source": [
        "#5.  Write a program to demonstrate encapsulation by creating a class BankAccount with private attributes\n",
        "#balance and methods to deposit, withdraw, and check balance.\n",
        "class BankAccount:\n",
        "    def __init__(self, initial_balance=0):\n",
        "        self.__balance = initial_balance  # Private attribute\n",
        "\n",
        "    def deposit(self, amount):\n",
        "        if amount > 0:\n",
        "            self.__balance += amount\n",
        "            print(f\"Deposited: {amount}\")\n",
        "        else:\n",
        "            print(\"Deposit amount must be positive.\")\n",
        "\n",
        "    def withdraw(self, amount):\n",
        "        if amount > self.__balance:\n",
        "            print(\"Insufficient funds.\")\n",
        "        elif amount <= 0:\n",
        "            print(\"Withdrawal amount must be positive.\")\n",
        "        else:\n",
        "            self.__balance -= amount\n",
        "            print(f\"Withdrawn: {amount}\")\n",
        "\n",
        "    def check_balance(self):\n",
        "        print(f\"Current balance: {self.__balance}\")\n",
        "\n",
        "# Example usage:\n",
        "account = BankAccount(100)\n",
        "account.deposit(50)      # Deposited: 50\n",
        "account.withdraw(30)     # Withdrawn: 30\n",
        "account.check_balance()  # Current balance: 120\n",
        "\n",
        "# Direct access to __balance will raise an error\n",
        "# print(account.__balance)  # AttributeError\n",
        "\n"
      ],
      "metadata": {
        "colab": {
          "base_uri": "https://localhost:8080/"
        },
        "id": "rq2FAUEOIhLk",
        "outputId": "cb934388-e1f7-4541-a50c-8e6b60ebe814"
      },
      "execution_count": 7,
      "outputs": [
        {
          "output_type": "stream",
          "name": "stdout",
          "text": [
            "Deposited: 50\n",
            "Withdrawn: 30\n",
            "Current balance: 120\n"
          ]
        }
      ]
    },
    {
      "cell_type": "code",
      "source": [
        " #6. Demonstrate runtime polymorphism using a method play() in a base class Instrument. Derive classes Guitar\n",
        "#and Piano that implement their own version of play().\n",
        "class Instrument:\n",
        "    def play(self):\n",
        "        print(\"Playing an instrument.\")\n",
        "\n",
        "class Guitar(Instrument):\n",
        "    def play(self):\n",
        "        print(\"Playing the guitar.\")\n",
        "\n",
        "class Piano(Instrument):\n",
        "    def play(self):\n",
        "        print(\"Playing the piano.\")\n",
        "\n",
        "# Example usage:\n",
        "instruments = [Guitar(), Piano()]\n",
        "\n",
        "for instrument in instruments:\n",
        "    instrument.play()\n"
      ],
      "metadata": {
        "colab": {
          "base_uri": "https://localhost:8080/"
        },
        "id": "Tu76x6JTJaF7",
        "outputId": "d746838e-e14a-4881-f1b8-d081f40d29af"
      },
      "execution_count": 8,
      "outputs": [
        {
          "output_type": "stream",
          "name": "stdout",
          "text": [
            "Playing the guitar.\n",
            "Playing the piano.\n"
          ]
        }
      ]
    },
    {
      "cell_type": "code",
      "source": [
        "#7.Create a class MathOperations with a class method add_numbers() to add two numbers and a static\n",
        "#method subtract_numbers() to subtract two numbers.\n",
        "class MathOperations:\n",
        "    @classmethod\n",
        "    def add_numbers(cls, a, b):\n",
        "        return a + b\n",
        "\n",
        "    @staticmethod\n",
        "    def subtract_numbers(a, b):\n",
        "        return a - b\n",
        "\n",
        "# Example usage:\n",
        "print(MathOperations.add_numbers(10, 5))       # Output: 15\n",
        "print(MathOperations.subtract_numbers(10, 5))  # Output: 5\n"
      ],
      "metadata": {
        "colab": {
          "base_uri": "https://localhost:8080/"
        },
        "id": "xdxaPp3tJmps",
        "outputId": "fd890dbc-42fc-4334-b1f3-aca1a4da14d5"
      },
      "execution_count": 9,
      "outputs": [
        {
          "output_type": "stream",
          "name": "stdout",
          "text": [
            "15\n",
            "5\n"
          ]
        }
      ]
    },
    {
      "cell_type": "code",
      "source": [
        " #8.Implement a class Person with a class method to count the total number of persons created\n",
        " class Person:\n",
        "    count = 0  # Class variable to keep track of number of persons\n",
        "\n",
        "    def __init__(self, name):\n",
        "        self.name = name\n",
        "        Person.count += 1  # Increment count whenever a new person is created\n",
        "\n",
        "    @classmethod\n",
        "    def get_person_count(cls):\n",
        "        return cls.count\n",
        "\n",
        "# Example usage:\n",
        "p1 = Person(\"Alice\")\n",
        "p2 = Person(\"Bob\")\n",
        "p3 = Person(\"Charlie\")\n",
        "\n",
        "print(\"Total persons created:\", Person.get_person_count())  # Output: Total persons created: 3\n"
      ],
      "metadata": {
        "colab": {
          "base_uri": "https://localhost:8080/"
        },
        "id": "1jXVZ2TYJxj_",
        "outputId": "7924e991-da96-4bfb-a430-ec5cbc24c603"
      },
      "execution_count": 10,
      "outputs": [
        {
          "output_type": "stream",
          "name": "stdout",
          "text": [
            "Total persons created: 3\n"
          ]
        }
      ]
    },
    {
      "cell_type": "code",
      "source": [
        "#9.  Write a class Fraction with attributes numerator and denominator. Override the str method to display the\n",
        "#fraction as \"numerator/denominator\".\n",
        "class Fraction:\n",
        "    def __init__(self, numerator, denominator):\n",
        "        self.numerator = numerator\n",
        "        self.denominator = denominator\n",
        "\n",
        "    def __str__(self):\n",
        "        return f\"{self.numerator}/{self.denominator}\"\n",
        "\n",
        "# Example usage:\n",
        "f = Fraction(3, 4)\n",
        "print(f)  # Output: 3/4\n"
      ],
      "metadata": {
        "colab": {
          "base_uri": "https://localhost:8080/"
        },
        "id": "KYNSkE0ZJ8a0",
        "outputId": "0e56edab-88ba-4bd5-90fd-372477781e37"
      },
      "execution_count": 11,
      "outputs": [
        {
          "output_type": "stream",
          "name": "stdout",
          "text": [
            "3/4\n"
          ]
        }
      ]
    },
    {
      "cell_type": "code",
      "source": [
        "#10.Demonstrate operator overloading by creating a class Vector and overriding the add method to add two\n",
        "#vectors.\n",
        "class Vector:\n",
        "    def __init__(self, x, y):\n",
        "        self.x = x\n",
        "        self.y = y\n",
        "\n",
        "    def __add__(self, other):\n",
        "        if isinstance(other, Vector):\n",
        "            return Vector(self.x + other.x, self.y + other.y)\n",
        "        return NotImplemented\n",
        "\n",
        "    def __str__(self):\n",
        "        return f\"Vector({self.x}, {self.y})\"\n",
        "\n",
        "# Example usage:\n",
        "v1 = Vector(2, 3)\n",
        "v2 = Vector(4, 5)\n",
        "v3 = v1 + v2\n",
        "\n",
        "print(v3)  # Output: Vector(6, 8)\n"
      ],
      "metadata": {
        "colab": {
          "base_uri": "https://localhost:8080/"
        },
        "id": "jFrhnllgKHSB",
        "outputId": "f248b68c-e238-4421-95b7-220a8cefd32b"
      },
      "execution_count": 12,
      "outputs": [
        {
          "output_type": "stream",
          "name": "stdout",
          "text": [
            "Vector(6, 8)\n"
          ]
        }
      ]
    },
    {
      "cell_type": "code",
      "source": [
        "#11. Create a class Person with attributes name and age. Add a method greet() that prints \"Hello, my name is\n",
        "#{name} and I am {age} years old.\"\n",
        "class Person:\n",
        "    def __init__(self, name, age):\n",
        "        self.name = name\n",
        "        self.age = age\n",
        "\n",
        "    def greet(self):\n",
        "        print(f\"Hello, my name is {self.name} and I am {self.age} years old.\")\n",
        "\n",
        "# Example usage:\n",
        "person = Person(\"Alice\", 30)\n",
        "person.greet()  # Output: Hello, my name is Alice and I am 30 years old.\n"
      ],
      "metadata": {
        "colab": {
          "base_uri": "https://localhost:8080/"
        },
        "id": "f4HwA0hNKUzF",
        "outputId": "a3517d07-9c85-47ae-bb5d-0ad58747ae33"
      },
      "execution_count": 13,
      "outputs": [
        {
          "output_type": "stream",
          "name": "stdout",
          "text": [
            "Hello, my name is Alice and I am 30 years old.\n"
          ]
        }
      ]
    },
    {
      "cell_type": "code",
      "source": [
        "#12.Implement a class Student with attributes name and grades. Create a method average_grade() to compute\n",
        "#the average of the grades.\n",
        "class Student:\n",
        "    def __init__(self, name, grades):\n",
        "        self.name = name\n",
        "        self.grades = grades  # Expecting a list of numbers\n",
        "\n",
        "    def average_grade(self):\n",
        "        if not self.grades:\n",
        "            return 0\n",
        "        return sum(self.grades) / len(self.grades)\n",
        "\n",
        "# Example usage:\n",
        "student = Student(\"John\", [85, 90, 78, 92])\n",
        "print(f\"{student.name}'s average grade: {student.average_grade()}\")\n",
        "# Output: John's average grade: 86.25\n",
        "\n"
      ],
      "metadata": {
        "colab": {
          "base_uri": "https://localhost:8080/"
        },
        "id": "IGJvuNTzKgI5",
        "outputId": "82a026cd-23c4-41bf-bdf4-d136ae190ee3"
      },
      "execution_count": 17,
      "outputs": [
        {
          "output_type": "stream",
          "name": "stdout",
          "text": [
            "John's average grade: 86.25\n"
          ]
        }
      ]
    },
    {
      "cell_type": "code",
      "source": [
        "#13.  Create a class Rectangle with methods set_dimensions() to set the dimensions and area() to calculate the\n",
        "#area.\n",
        "class Rectangle:\n",
        "    def __init__(self):\n",
        "        self.width = 0\n",
        "        self.height = 0\n",
        "\n",
        "    def set_dimensions(self, width, height):\n",
        "        self.width = width\n",
        "        self.height = height\n",
        "\n",
        "    def area(self):\n",
        "        return self.width * self.height\n",
        "\n",
        "# Example usage:\n",
        "rect = Rectangle()\n",
        "rect.set_dimensions(5, 10)\n",
        "print(f\"Area of rectangle: {rect.area()}\")  # Output: Area of rectangle: 50\n"
      ],
      "metadata": {
        "colab": {
          "base_uri": "https://localhost:8080/"
        },
        "id": "Oi5ljjDxKwpM",
        "outputId": "2517ee04-9220-4208-beaf-fb205af4de54"
      },
      "execution_count": 19,
      "outputs": [
        {
          "output_type": "stream",
          "name": "stdout",
          "text": [
            "Area of rectangle: 50\n"
          ]
        }
      ]
    },
    {
      "cell_type": "code",
      "source": [
        "#14. class Employee:\n",
        "class Employee:\n",
        "    def __init__(self, hours_worked, hourly_rate):\n",
        "        self.hours_worked = hours_worked\n",
        "        self.hourly_rate = hourly_rate\n",
        "\n",
        "    def calculate_salary(self):\n",
        "        return self.hours_worked * self.hourly_rate\n",
        "\n",
        "class Manager(Employee):\n",
        "    def __init__(self, hours_worked, hourly_rate, bonus):\n",
        "        super().__init__(hours_worked, hourly_rate)\n",
        "        self.bonus = bonus\n",
        "\n",
        "    def calculate_salary(self):\n",
        "        base_salary = super().calculate_salary()\n",
        "        return base_salary + self.bonus\n",
        "\n",
        "# Example usage:\n",
        "emp = Employee(40, 20)\n",
        "mgr = Manager(40, 20, 500)\n",
        "\n",
        "print(f\"Employee salary: ${emp.calculate_salary()}\")  # Output: Employee salary: $800\n",
        "print(f\"Manager salary: ${mgr.calculate_salary()}\")   # Output: Manager salary: $1300\n"
      ],
      "metadata": {
        "colab": {
          "base_uri": "https://localhost:8080/"
        },
        "id": "bLH9nw0HK7Tb",
        "outputId": "8bf6e4d9-cfb2-4c5a-d67a-068df478043d"
      },
      "execution_count": 22,
      "outputs": [
        {
          "output_type": "stream",
          "name": "stdout",
          "text": [
            "Employee salary: $800\n",
            "Manager salary: $1300\n"
          ]
        }
      ]
    },
    {
      "cell_type": "code",
      "source": [
        "#15.  Create a class Product with attributes name, price, and quantity. Implement a method total_price() that\n",
        "#calculates the total price of the product.\n",
        "class Product:\n",
        "    def __init__(self, name, price, quantity):\n",
        "        self.name = name\n",
        "        self.price = price\n",
        "        self.quantity = quantity\n",
        "\n",
        "    def total_price(self):\n",
        "        return self.price * self.quantity\n",
        "\n",
        "# Example usage:\n",
        "product = Product(\"Laptop\", 750, 3)\n",
        "print(f\"Total price of {product.name}: ${product.total_price()}\")  # Output: Total price of Laptop: $2250\n",
        "\n"
      ],
      "metadata": {
        "colab": {
          "base_uri": "https://localhost:8080/"
        },
        "id": "Bq3N0rXxLQFB",
        "outputId": "095c2c2a-4b6f-46da-f678-69c516877ad4"
      },
      "execution_count": 24,
      "outputs": [
        {
          "output_type": "stream",
          "name": "stdout",
          "text": [
            "Total price of Laptop: $2250\n"
          ]
        }
      ]
    },
    {
      "cell_type": "code",
      "source": [
        "#16. Create a class Animal with an abstract method sound(). Create two derived classes Cow and Sheep that\n",
        "#implement the sound() method.\n",
        "from abc import ABC, abstractmethod\n",
        "\n",
        "class Animal(ABC):\n",
        "    @abstractmethod\n",
        "    def sound(self):\n",
        "        pass\n",
        "\n",
        "class Cow(Animal):\n",
        "    def sound(self):\n",
        "        print(\"Moo\")\n",
        "\n",
        "class Sheep(Animal):\n",
        "    def sound(self):\n",
        "        print(\"Baa\")\n",
        "\n",
        "# Example usage:\n",
        "cow = Cow()\n",
        "sheep = Sheep()\n",
        "\n",
        "cow.sound()   # Output: Moo\n",
        "sheep.sound() # Output: Baa\n"
      ],
      "metadata": {
        "colab": {
          "base_uri": "https://localhost:8080/"
        },
        "id": "LT3LLqZiLdrb",
        "outputId": "cca9c952-ab4e-43e0-ba97-924f8ea72c0e"
      },
      "execution_count": 25,
      "outputs": [
        {
          "output_type": "stream",
          "name": "stdout",
          "text": [
            "Moo\n",
            "Baa\n"
          ]
        }
      ]
    },
    {
      "cell_type": "code",
      "source": [
        "#17.Create a class Book with attributes title, author, and year_published. Add a method get_book_info() that\n",
        "#returns a formatted string with the book's details.\n",
        "class Book:\n",
        "    def __init__(self, title, author, year_published):\n",
        "        self.title = title\n",
        "        self.author = author\n",
        "        self.year_published = year_published\n",
        "\n",
        "    def get_book_info(self):\n",
        "        return f\"'{self.title}' by {self.author}, published in {self.year_published}\"\n",
        "\n",
        "# Example usage:\n",
        "book = Book(\"1984\", \"George Orwell\", 1949)\n",
        "print(book.get_book_info())\n",
        "# Output: '1984' by George Orwell, published in 1949\n",
        "\n",
        "\n",
        "\n",
        "\n"
      ],
      "metadata": {
        "colab": {
          "base_uri": "https://localhost:8080/"
        },
        "id": "LJjmCvUDLsdv",
        "outputId": "f13e2cd5-f8f3-4d04-c547-e8303560844f"
      },
      "execution_count": 27,
      "outputs": [
        {
          "output_type": "stream",
          "name": "stdout",
          "text": [
            "'1984' by George Orwell, published in 1949\n"
          ]
        }
      ]
    },
    {
      "cell_type": "code",
      "source": [
        "#18.Create a class House with attributes address and price. Create a derived class Mansion that adds an\n",
        "#attribute number_of_rooms.\n",
        "class House:\n",
        "    def __init__(self, address, price):\n",
        "        self.address = address\n",
        "        self.price = price\n",
        "\n",
        "class Mansion(House):\n",
        "    def __init__(self, address, price, number_of_rooms):\n",
        "        super().__init__(address, price)\n",
        "        self.number_of_rooms = number_of_rooms\n",
        "\n",
        "# Example usage:\n",
        "house = House(\"123 Maple St\", 250000)\n",
        "mansion = Mansion(\"456 Oak Ave\", 1200000, 10)\n",
        "\n",
        "print(f\"House: {house.address}, Price: ${house.price}\")\n",
        "print(f\"Mansion: {mansion.address}, Price: ${mansion.price}, Rooms: {mansion.number_of_rooms}\")\n"
      ],
      "metadata": {
        "colab": {
          "base_uri": "https://localhost:8080/"
        },
        "id": "8NnTBUiuL57D",
        "outputId": "6b6dae4a-23f7-475f-ff93-68bae340b7f7"
      },
      "execution_count": 28,
      "outputs": [
        {
          "output_type": "stream",
          "name": "stdout",
          "text": [
            "House: 123 Maple St, Price: $250000\n",
            "Mansion: 456 Oak Ave, Price: $1200000, Rooms: 10\n"
          ]
        }
      ]
    }
  ]
}