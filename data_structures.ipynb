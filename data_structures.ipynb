{
  "nbformat": 4,
  "nbformat_minor": 0,
  "metadata": {
    "colab": {
      "provenance": []
    },
    "kernelspec": {
      "name": "python3",
      "display_name": "Python 3"
    },
    "language_info": {
      "name": "python"
    }
  },
  "cells": [
    {
      "cell_type": "markdown",
      "source": [
        "1. What are data structures, and why are they important?\n",
        "\n",
        "A. Data structures are organized ways to store, manage, and retrieve data efficiently in computer programs.\n",
        "they are important because\n",
        "- Efficiency\n",
        "- Organization\n",
        "- Scalability"
      ],
      "metadata": {
        "id": "IS2T7mWEWmOL"
      }
    },
    {
      "cell_type": "markdown",
      "source": [
        "2. Explain the difference between mutable and immutable data types with examples.\n",
        "mutable data types:\n",
        "- they can be changed even after creation\n",
        "- it updates in-place\n",
        "- example: list, set dict\n",
        "immutable data types:\n",
        "- they cannot be changed after creation\n",
        "- it creates a new object on change\n",
        "- example: tuple, int, float, str"
      ],
      "metadata": {
        "id": "KAwPjwtfXgWO"
      }
    },
    {
      "cell_type": "markdown",
      "source": [
        "3. What are the main differences between lists and tuples in Python?\n",
        "\n",
        "A. List:\n",
        "A list is mutable, which means you can change its content after it's created — you can add, remove, or modify elements. Lists use square brackets [] and support many built-in methods like append(), remove(), and sort().\n",
        "Tuple:\n",
        "a tuple is immutable, meaning once it's created, it cannot be modified. Tuples use parentheses () and support fewer methods, such as count() and index()."
      ],
      "metadata": {
        "id": "NurSuE5HYaiw"
      }
    },
    {
      "cell_type": "markdown",
      "source": [
        "4. Describe how dictionaries store data\n",
        "\n",
        "A. dictionaries store data as key-value pairs using a structure called a hash table. The key must be immutable (like strings, numbers, or tuples), while the value can be of any data type.\n",
        "\n"
      ],
      "metadata": {
        "id": "Rp7gAb3yZETN"
      }
    },
    {
      "cell_type": "markdown",
      "source": [
        "5. Why might you use a set instead of a list in Python\n",
        "\n",
        "A. we might use a set instead of a list in Python when you need to store a collection of unique elements and perform fast membership checks. Unlike lists, sets automatically eliminate duplicate values, making them ideal for situations where uniqueness matters, such as removing repeated items from a dataset."
      ],
      "metadata": {
        "id": "Wgvm2RlhZchF"
      }
    },
    {
      "cell_type": "markdown",
      "source": [
        "6. What is a string in Python, and how is it different from a list\n",
        "\n",
        "A.  string is a sequence of character which represents and manipulate textual data. it is a unit of text\n",
        "- strings are immutable, meaning you cannot change individual characters after the string is created. In contrast, lists are mutable, so you can modify, add, or remove elements freely. Second, a string is a sequence of characters only, while a list can hold any type of data, such as numbers, strings, booleans, or even other lists."
      ],
      "metadata": {
        "id": "uZ6LWDNAZ73x"
      }
    },
    {
      "cell_type": "markdown",
      "source": [
        "7.  How do tuples ensure data integrity in Python\n",
        "\n",
        "A. Python ensure data integrity through their immutability. Once a tuple is created, its contents cannot be changed, which helps prevent accidental modifications. This immutability ensures that data stored in tuples remains consistent throughout the program, reducing the risk of bugs or unintended changes. because tuples are immutable, they can be used as keys in dictionaries, unlike lists."
      ],
      "metadata": {
        "id": "FMbjlguZayd6"
      }
    },
    {
      "cell_type": "markdown",
      "source": [
        "8. What is a hash table, and how does it relate to dictionaries in Python\n",
        "\n",
        "A. A hash table is a data structure that stores key-value pairs, where each key is hashed using a hash function to determine its position in an underlying array or list.\n",
        "-In Python, dictionaries are implemented using hash tables. When you create a dictionary and insert key-value pairs, Python uses a hash function to compute a hash value for each key. This hash value determines where the key-value pair is stored in memory."
      ],
      "metadata": {
        "id": "LtOYmsBQbFCb"
      }
    },
    {
      "cell_type": "markdown",
      "source": [
        "9. Can lists contain different data types in Python\n",
        "\n",
        "A. Yes, lists in Python can contain different data types. A single list can hold elements of various types, such as integers, strings, booleans, floats, other lists, or even objects of custom classes. This flexibility is one of the key features of lists in Python."
      ],
      "metadata": {
        "id": "RVqSgdoTbU6J"
      }
    },
    {
      "cell_type": "markdown",
      "source": [
        "10.  Explain why strings are immutable in Python\n",
        "\n",
        "A. Since strings cannot be changed once created, Python can optimize memory usage by reusing the same string objects when identical values are encountered. This immutability also allows strings to be hashable, meaning they can be used as keys in dictionaries and elements in sets, since their value remains constant throughout their lifetime."
      ],
      "metadata": {
        "id": "m7Cdn4ksbdqj"
      }
    },
    {
      "cell_type": "markdown",
      "source": [
        "11. What advantages do dictionaries offer over lists for certain tasks\n",
        "\n",
        "A. Dictionaries offer several advantages over lists for certain tasks, particularly when it comes to efficiency and data organization. One of the key advantages is faster lookups, as dictionaries allow for constant-time access (O(1)) through their unique keys, making it much quicker to retrieve values compared to lists, which require iterating through each element.\n",
        "-Dictionaries also provide efficient storage and organization through key-value pairs, allowing data to be directly mapped with an identifier, whereas lists rely on the position of elements."
      ],
      "metadata": {
        "id": "0RoVtSiCb84C"
      }
    },
    {
      "cell_type": "markdown",
      "source": [
        "12. Describe a scenario where using a tuple would be preferable over a list\n",
        "In real life, a great scenario of when to use a tuple instead of a list is when representing a person's date of birth. A date is a fixed, immutable set of information: the year, month, and day. Once set, these values should not change. Using a tuple ensures the data integrity of the date, as tuples are immutable and cannot be accidentally modified."
      ],
      "metadata": {
        "id": "P6-MLyMlcUY4"
      }
    },
    {
      "cell_type": "markdown",
      "source": [
        "13. How do sets handle duplicate values in Python\n",
        "\n",
        "A. In Python, sets automatically handle duplicate values by removing them. When you try to add a duplicate value to a set, it will not be added again, ensuring that each element in the set is unique.\n"
      ],
      "metadata": {
        "id": "rRF-iZZPc3Hi"
      }
    },
    {
      "cell_type": "markdown",
      "source": [
        "14.  How does the “in” keyword work differently for lists and dictionaries\n",
        "\n",
        "A. For lists, the in keyword checks whether a specific value exists in the list by iterating through each element. It returns True if the value is found, and False otherwise.\n",
        " for dictionaries, the in keyword checks whether a specific key exists in the dictionary, not the value. This check is performed efficiently using a hash table.\n",
        " Therefore, while the in keyword in lists searches for values, in dictionaries it searches for keys."
      ],
      "metadata": {
        "id": "UahPB67fdDXZ"
      }
    },
    {
      "cell_type": "markdown",
      "source": [
        "15. Can you modify the elements of a tuple? Explain why or why not\n",
        "\n",
        "A. No, you cannot modify the elements of a tuple in Python because tuples are immutable. Once a tuple is created, its contents are fixed and cannot be changed, added to, or removed."
      ],
      "metadata": {
        "id": "ZKra2UxadjmK"
      }
    },
    {
      "cell_type": "markdown",
      "source": [
        "16. What is a nested dictionary, and give an example of its use case\n",
        "\n",
        "A. A nested dictionary in Python refers to a dictionary where the values themselves are also dictionaries. Essentially, it's a dictionary inside another dictionary, allowing for more complex data structures to be represented."
      ],
      "metadata": {
        "id": "2BtDpzZGgy8-"
      }
    },
    {
      "cell_type": "markdown",
      "source": [
        "17. Describe the time complexity of accessing elements in a dictionary\n",
        "\n",
        "A.  The time complexity of accessing elements in a Python dictionary is generally O(1) on average. This is because Python dictionaries are implemented using a hash table, which allows for very fast lookups based on keys."
      ],
      "metadata": {
        "id": "TKgYvxUBirEf"
      }
    },
    {
      "cell_type": "markdown",
      "source": [
        "18.  In what situations are lists preferred over dictionaries\n",
        "\n",
        "A. Lists are preferred over dictionaries in situations where you need an ordered collection of items, as lists preserve the order of elements as they were inserted. They are also ideal when you need to access elements by index or when you have a sequence of data that doesn't require key-value pairs. Lists allow duplicate values, making them suitable for cases where repeated elements are expected, such as in survey responses or multiple occurrences of a value."
      ],
      "metadata": {
        "id": "SzrGCENTjvwT"
      }
    },
    {
      "cell_type": "markdown",
      "source": [
        "19. Why are dictionaries considered unordered, and how does that affect data retrieval\n",
        "\n",
        "A. Dictionaries in Python are considered unordered because they do not guarantee the order of the keys and values. This characteristic arises from the underlying hash table implementation that dictionaries use. In a hash table, the keys are hashed into indices that determine where the corresponding values are stored in memory. The process of hashing does not maintain any specific order of the items, so when you iterate over a dictionary, the order in which the items appear may not reflect the order in which they were added."
      ],
      "metadata": {
        "id": "NLOtfZGykTnS"
      }
    },
    {
      "cell_type": "markdown",
      "source": [
        "20. Explain the difference between a list and a dictionary in terms of data retrieval\n",
        "\n",
        "A. In a list, elements are accessed using integer indices that represent their position in the sequence.\n",
        "In contrast, a dictionary stores data as key-value pairs, and elements are accessed by their unique keys rather than positions."
      ],
      "metadata": {
        "id": "YV6RvJcylQ76"
      }
    },
    {
      "cell_type": "code",
      "source": [
        "#1. Write a code to create a string with your name and print it\n",
        "name = \"Srilatha\"\n",
        "print(name)"
      ],
      "metadata": {
        "colab": {
          "base_uri": "https://localhost:8080/"
        },
        "id": "dZZ2cmlhKIL9",
        "outputId": "6c2005a1-3731-48d3-bf84-848b625e427c"
      },
      "execution_count": 3,
      "outputs": [
        {
          "output_type": "stream",
          "name": "stdout",
          "text": [
            "Srilatha\n"
          ]
        }
      ]
    },
    {
      "cell_type": "code",
      "source": [
        "#2. Write a code to find the length of the string \"Hello World\"\n",
        "string=\"hello world\"\n",
        "print(len(string))"
      ],
      "metadata": {
        "colab": {
          "base_uri": "https://localhost:8080/"
        },
        "id": "fZTc4i9VLA1N",
        "outputId": "495e2b35-2d53-4ffd-e4f1-864026d249b0"
      },
      "execution_count": 4,
      "outputs": [
        {
          "output_type": "stream",
          "name": "stdout",
          "text": [
            "11\n"
          ]
        }
      ]
    },
    {
      "cell_type": "code",
      "source": [
        "#3. Write a code to slice the first 3 characters from the string \"Python Programming\n",
        "string=\"python programming\"\n",
        "print(string[0:3])"
      ],
      "metadata": {
        "colab": {
          "base_uri": "https://localhost:8080/"
        },
        "id": "JePXOpXRLRXY",
        "outputId": "76c870f3-752b-494f-f5e3-7d1c7af1f94b"
      },
      "execution_count": 5,
      "outputs": [
        {
          "output_type": "stream",
          "name": "stdout",
          "text": [
            "pyt\n"
          ]
        }
      ]
    },
    {
      "cell_type": "code",
      "source": [
        "#4. Write a code to convert the string \"hello\" to uppercase\n",
        "string=\"hello\"\n",
        "print(string.upper())"
      ],
      "metadata": {
        "colab": {
          "base_uri": "https://localhost:8080/"
        },
        "id": "p1aHFxaGLcCH",
        "outputId": "42fda183-e534-49e4-af2a-7adb1699d75a"
      },
      "execution_count": 6,
      "outputs": [
        {
          "output_type": "stream",
          "name": "stdout",
          "text": [
            "HELLO\n"
          ]
        }
      ]
    },
    {
      "cell_type": "code",
      "source": [
        "#5. Write a code to replace the word \"apple\" with \"orange\" in the string \"I like apple\"\n",
        "string=\"I like apple\"\n",
        "print(string.replace(\"apple\",\"orange\"))"
      ],
      "metadata": {
        "colab": {
          "base_uri": "https://localhost:8080/"
        },
        "id": "RJIGApzcL0_J",
        "outputId": "d01b77f4-b99b-400a-9e15-d9c027973e35"
      },
      "execution_count": 7,
      "outputs": [
        {
          "output_type": "stream",
          "name": "stdout",
          "text": [
            "I like orange\n"
          ]
        }
      ]
    },
    {
      "cell_type": "code",
      "source": [
        "#6. Write a code to create a list with numbers 1 to 5 and print it\n",
        "list=[1,2,3,4,5]\n",
        "print(list)"
      ],
      "metadata": {
        "colab": {
          "base_uri": "https://localhost:8080/"
        },
        "id": "a4Vvmg2kMCBY",
        "outputId": "4ba3b6d9-32ec-4722-9f67-d7d0f55d71de"
      },
      "execution_count": 8,
      "outputs": [
        {
          "output_type": "stream",
          "name": "stdout",
          "text": [
            "[1, 2, 3, 4, 5]\n"
          ]
        }
      ]
    },
    {
      "cell_type": "code",
      "source": [
        "#7. Write a code to append the number 10 to the list [1, 2, 3, 4]\n",
        "list=[1,2,3,4]\n",
        "list.append(10)\n",
        "print(list)\n"
      ],
      "metadata": {
        "colab": {
          "base_uri": "https://localhost:8080/"
        },
        "id": "oN053kr7MIfM",
        "outputId": "dc3504d4-cbbc-4b7c-9a9f-8b37d84a3e0f"
      },
      "execution_count": 9,
      "outputs": [
        {
          "output_type": "stream",
          "name": "stdout",
          "text": [
            "[1, 2, 3, 4, 10]\n"
          ]
        }
      ]
    },
    {
      "cell_type": "code",
      "source": [
        "#8. Write a code to remove the number 3 from the list [1, 2, 3, 4, 5]\n",
        "list=[1,2,3,4,5]\n",
        "list.remove(3)\n",
        "print(list)"
      ],
      "metadata": {
        "colab": {
          "base_uri": "https://localhost:8080/"
        },
        "id": "-Tpp4ZpGMRXU",
        "outputId": "6bfefd0a-834e-4646-b984-594adf195ebd"
      },
      "execution_count": 10,
      "outputs": [
        {
          "output_type": "stream",
          "name": "stdout",
          "text": [
            "[1, 2, 4, 5]\n"
          ]
        }
      ]
    },
    {
      "cell_type": "code",
      "source": [
        "#9. Write a code to access the second element in the list ['a', 'b', 'c', 'd']\n",
        "list=['a','b','c','d']\n",
        "print(list[1])"
      ],
      "metadata": {
        "colab": {
          "base_uri": "https://localhost:8080/"
        },
        "id": "6MHnHHA5MWtK",
        "outputId": "bd78fbf5-a3e6-4873-e567-65bfd0cf90af"
      },
      "execution_count": 11,
      "outputs": [
        {
          "output_type": "stream",
          "name": "stdout",
          "text": [
            "b\n"
          ]
        }
      ]
    },
    {
      "cell_type": "code",
      "source": [
        "#10. Write a code to reverse the list [10, 20, 30, 40, 50]\n",
        "list=[10,20,30,40,50]\n",
        "print(list[::-1])"
      ],
      "metadata": {
        "colab": {
          "base_uri": "https://localhost:8080/"
        },
        "id": "pSLm5QhXMcbq",
        "outputId": "06aa6334-7ba1-44e9-9f55-137c32b544c7"
      },
      "execution_count": 12,
      "outputs": [
        {
          "output_type": "stream",
          "name": "stdout",
          "text": [
            "[50, 40, 30, 20, 10]\n"
          ]
        }
      ]
    },
    {
      "cell_type": "code",
      "source": [
        "#11.  Write a code to create a tuple with the elements 100, 200, 300 and print it\n",
        "tuple=(100,200,300)\n",
        "print(tuple)"
      ],
      "metadata": {
        "colab": {
          "base_uri": "https://localhost:8080/"
        },
        "id": "-zX_1Ws9MhAR",
        "outputId": "c855f0a8-1527-4491-8b70-0bfcbbc23c2b"
      },
      "execution_count": 13,
      "outputs": [
        {
          "output_type": "stream",
          "name": "stdout",
          "text": [
            "(100, 200, 300)\n"
          ]
        }
      ]
    },
    {
      "cell_type": "code",
      "source": [
        "#12.  Write a code to access the second-to-last element of the tuple ('red', 'green', 'blue', 'yellow')\n",
        "tuple=('red','green','blue','yellow')\n",
        "print(tuple[-2])"
      ],
      "metadata": {
        "colab": {
          "base_uri": "https://localhost:8080/"
        },
        "id": "pkunfoSvMoEY",
        "outputId": "3e9789cf-dbc0-496a-e881-7f59cba26ff2"
      },
      "execution_count": 14,
      "outputs": [
        {
          "output_type": "stream",
          "name": "stdout",
          "text": [
            "blue\n"
          ]
        }
      ]
    },
    {
      "cell_type": "code",
      "source": [
        "#13. Write a code to find the minimum number in the tuple (10, 20, 5, 15)\n",
        "numbers = (10, 20, 5, 15)\n",
        "minimum = min(numbers)\n",
        "print(\"The minimum number is:\", minimum)\n",
        "\n"
      ],
      "metadata": {
        "colab": {
          "base_uri": "https://localhost:8080/"
        },
        "id": "2z8xHkUjMuuv",
        "outputId": "bb9bb5eb-ab5f-44bc-8c24-d161d4c98a38"
      },
      "execution_count": 16,
      "outputs": [
        {
          "output_type": "stream",
          "name": "stdout",
          "text": [
            "The minimum number is: 5\n"
          ]
        }
      ]
    },
    {
      "cell_type": "code",
      "source": [
        "#14.  Write a code to find the index of the element \"cat\" in the tuple ('dog', 'cat', 'rabbit')\n",
        "tuple=('dog','cat','rabbit')\n",
        "print(tuple.index('cat'))"
      ],
      "metadata": {
        "colab": {
          "base_uri": "https://localhost:8080/"
        },
        "id": "fWkPW-zBNmbS",
        "outputId": "436afd4c-1f1b-4290-f21d-65f3489b7393"
      },
      "execution_count": 17,
      "outputs": [
        {
          "output_type": "stream",
          "name": "stdout",
          "text": [
            "1\n"
          ]
        }
      ]
    },
    {
      "cell_type": "code",
      "source": [
        "#15.  Write a code to create a tuple containing three different fruits and check if \"kiwi\" is in it\n",
        "fruits = (\"apple\", \"banana\", \"orange\")\n",
        "if \"kiwi\" in fruits:\n",
        "    print(\"kiwi is in the tuple\")\n",
        "else:\n",
        "    print(\"kiwi is not in the tuple\")"
      ],
      "metadata": {
        "colab": {
          "base_uri": "https://localhost:8080/"
        },
        "id": "S4j-rntsNsuO",
        "outputId": "cd716f43-679a-4f93-ef2d-72d973d95b96"
      },
      "execution_count": 18,
      "outputs": [
        {
          "output_type": "stream",
          "name": "stdout",
          "text": [
            "kiwi is not in the tuple\n"
          ]
        }
      ]
    },
    {
      "cell_type": "code",
      "source": [
        "#16.  Write a code to create a set with the elements 'a', 'b', 'c' and print it.\n",
        "set={'a','b','c'}\n",
        "print(set)"
      ],
      "metadata": {
        "colab": {
          "base_uri": "https://localhost:8080/"
        },
        "id": "d2NqSICaN1mW",
        "outputId": "6337afb7-c374-434e-fa30-780417bea0b3"
      },
      "execution_count": 19,
      "outputs": [
        {
          "output_type": "stream",
          "name": "stdout",
          "text": [
            "{'c', 'b', 'a'}\n"
          ]
        }
      ]
    },
    {
      "cell_type": "code",
      "source": [
        "#17.  Write a code to clear all elements from the set {1, 2, 3, 4, 5}.\n",
        "set={1,2,3,4,5}\n",
        "set.clear()\n",
        "print(set)"
      ],
      "metadata": {
        "colab": {
          "base_uri": "https://localhost:8080/"
        },
        "id": "nPSVOJdQN80S",
        "outputId": "2a8780eb-d407-4d0f-983f-b0d148d2aeea"
      },
      "execution_count": 20,
      "outputs": [
        {
          "output_type": "stream",
          "name": "stdout",
          "text": [
            "set()\n"
          ]
        }
      ]
    },
    {
      "cell_type": "code",
      "source": [
        "#18.  Write a code to remove the element 4 from the set {1, 2, 3, 4}\n",
        "set={1,2,3,4}\n",
        "set.remove(4)\n",
        "print(set)"
      ],
      "metadata": {
        "colab": {
          "base_uri": "https://localhost:8080/"
        },
        "id": "p12sX3UhOHoK",
        "outputId": "195e27bc-a603-4204-c75b-c323af60c81b"
      },
      "execution_count": 21,
      "outputs": [
        {
          "output_type": "stream",
          "name": "stdout",
          "text": [
            "{1, 2, 3}\n"
          ]
        }
      ]
    },
    {
      "cell_type": "code",
      "source": [
        "#19.  Write a code to find the union of two sets {1, 2, 3} and {3, 4, 5}.\n",
        "set1 = {1, 2, 3}\n",
        "set2 = {3, 4, 5}\n",
        "\n",
        "union_set = set1.union(set2)\n",
        "print(\"Union of the sets:\", union_set)\n"
      ],
      "metadata": {
        "colab": {
          "base_uri": "https://localhost:8080/"
        },
        "id": "W7aW9i5WOL_B",
        "outputId": "c2d13f38-b241-4c37-992d-dbe146c011ea"
      },
      "execution_count": 22,
      "outputs": [
        {
          "output_type": "stream",
          "name": "stdout",
          "text": [
            "Union of the sets: {1, 2, 3, 4, 5}\n"
          ]
        }
      ]
    },
    {
      "cell_type": "code",
      "source": [
        "#20. Write a code to find the intersection of two sets {1, 2, 3} and {2, 3, 4}\n",
        "set1 = {1, 2, 3}\n",
        "set2 = {2, 3, 4}\n",
        "\n",
        "intersection_set = set1.intersection(set2)\n",
        "print(\"Intersection of the sets:\", intersection_set)"
      ],
      "metadata": {
        "colab": {
          "base_uri": "https://localhost:8080/"
        },
        "id": "1-OrMBmrOXQ4",
        "outputId": "d6ead8b5-59c2-4b5e-a30a-b45252f101cb"
      },
      "execution_count": 23,
      "outputs": [
        {
          "output_type": "stream",
          "name": "stdout",
          "text": [
            "Intersection of the sets: {2, 3}\n"
          ]
        }
      ]
    },
    {
      "cell_type": "code",
      "source": [
        "#21. Write a code to create a dictionary with the keys \"name\", \"age\", and \"city\", and print it.\n",
        "person = {\n",
        "    \"name\": \"Alice\",\n",
        "    \"age\": 30,\n",
        "    \"city\": \"New York\"\n",
        "}\n",
        "\n",
        "print(person)\n"
      ],
      "metadata": {
        "colab": {
          "base_uri": "https://localhost:8080/"
        },
        "id": "fnkmbugGOcHY",
        "outputId": "9186b169-acef-4303-f0ec-43dae4124be1"
      },
      "execution_count": 24,
      "outputs": [
        {
          "output_type": "stream",
          "name": "stdout",
          "text": [
            "{'name': 'Alice', 'age': 30, 'city': 'New York'}\n"
          ]
        }
      ]
    },
    {
      "cell_type": "code",
      "source": [
        "#22.  Write a code to add a new key-value pair \"country\": \"USA\" to the dictionary {'name': 'John', 'age': 25}\n",
        "person = {'name': 'John', 'age': 25}\n",
        "person['country'] = 'USA'\n",
        "\n",
        "print(person)\n"
      ],
      "metadata": {
        "colab": {
          "base_uri": "https://localhost:8080/"
        },
        "id": "9TC3WN93Ono5",
        "outputId": "60d38feb-fc6a-4cc2-c1f1-5014695d5507"
      },
      "execution_count": 25,
      "outputs": [
        {
          "output_type": "stream",
          "name": "stdout",
          "text": [
            "{'name': 'John', 'age': 25, 'country': 'USA'}\n"
          ]
        }
      ]
    },
    {
      "cell_type": "code",
      "source": [
        "#23.  Write a code to access the value associated with the key \"name\" in the dictionary {'name': 'Alice', 'age': 30}.\n",
        "person = {'name': 'Alice', 'age': 30}\n",
        "name_value = person['name']\n",
        "print(\"The name is:\", name_value)\n"
      ],
      "metadata": {
        "colab": {
          "base_uri": "https://localhost:8080/"
        },
        "id": "AMNI-rdROvFw",
        "outputId": "de643a37-f4ba-4542-dda5-6ee9179699a6"
      },
      "execution_count": 26,
      "outputs": [
        {
          "output_type": "stream",
          "name": "stdout",
          "text": [
            "The name is: Alice\n"
          ]
        }
      ]
    },
    {
      "cell_type": "code",
      "source": [
        "#24. Write a code to remove the key \"age\" from the dictionary {'name': 'Bob', 'age': 22, 'city': 'New York'}.\n",
        "person = {'name': 'Bob', 'age': 22, 'city': 'New York'}\n",
        "del person['age']\n",
        "\n",
        "print(person)"
      ],
      "metadata": {
        "colab": {
          "base_uri": "https://localhost:8080/"
        },
        "id": "tCfzYEmcO4jt",
        "outputId": "de42db7e-2be2-477a-c414-63c1ce869fe8"
      },
      "execution_count": 27,
      "outputs": [
        {
          "output_type": "stream",
          "name": "stdout",
          "text": [
            "{'name': 'Bob', 'city': 'New York'}\n"
          ]
        }
      ]
    },
    {
      "cell_type": "code",
      "source": [
        "#25. Write a code to check if the key \"city\" exists in the dictionary {'name': 'Alice', 'city': 'Paris'}.\n",
        "person = {'name': 'Alice', 'city': 'Paris'}\n",
        "\n",
        "if 'city' in person:\n",
        "    print(\"The key 'city' exists in the dictionary.\")\n",
        "else:\n",
        "    print(\"The key 'city' does not exist in the dictionary.\")"
      ],
      "metadata": {
        "colab": {
          "base_uri": "https://localhost:8080/"
        },
        "id": "_Wr7wpszO9uu",
        "outputId": "727d3ab1-9a99-4548-8406-3f748952e360"
      },
      "execution_count": 28,
      "outputs": [
        {
          "output_type": "stream",
          "name": "stdout",
          "text": [
            "The key 'city' exists in the dictionary.\n"
          ]
        }
      ]
    },
    {
      "cell_type": "code",
      "source": [
        "#26. Write a code to create a list, a tuple, and a dictionary, and print them all.\n",
        "my_list = [1, 2, 3, 4, 5]\n",
        "my_tuple = ('a', 'b', 'c')\n",
        "my_dict = {'name': 'Alice', 'age': 30}\n",
        "print(\"List:\", my_list)\n",
        "print(\"Tuple:\", my_tuple)\n",
        "print(\"Dictionary:\", my_dict)\n"
      ],
      "metadata": {
        "colab": {
          "base_uri": "https://localhost:8080/"
        },
        "id": "VN2rO8HlPCJ9",
        "outputId": "4a3f5f5a-9d28-4e13-a795-a88352ddf620"
      },
      "execution_count": 31,
      "outputs": [
        {
          "output_type": "stream",
          "name": "stdout",
          "text": [
            "List: [1, 2, 3, 4, 5]\n",
            "Tuple: ('a', 'b', 'c')\n",
            "Dictionary: {'name': 'Alice', 'age': 30}\n"
          ]
        }
      ]
    },
    {
      "cell_type": "code",
      "source": [
        "#27.  Write a code to create a list of 5 random numbers between 1 and 100, sort it in ascending order, and print the\n",
        "#result.(replaced)\n",
        "import random\n",
        "\n",
        "random_numbers = [random.randint(1, 100) for _ in range(5)]\n",
        "random_numbers.sort()\n",
        "\n",
        "print(\"Random numbers:\", random_numbers)"
      ],
      "metadata": {
        "colab": {
          "base_uri": "https://localhost:8080/"
        },
        "id": "WGwOI7cBPVMN",
        "outputId": "899401c8-76bb-43a2-a006-14627f4a87ab"
      },
      "execution_count": 32,
      "outputs": [
        {
          "output_type": "stream",
          "name": "stdout",
          "text": [
            "Random numbers: [12, 22, 55, 59, 59]\n"
          ]
        }
      ]
    },
    {
      "cell_type": "code",
      "source": [
        "#28.  Write a code to create a list with strings and print the element at the third index.\n",
        "my_list = [\"apple\", \"banana\", \"cherry\", \"date\", \"elderberry\"]\n",
        "third_element = my_list[2]\n",
        "print(\"The third element is:\", third_element)"
      ],
      "metadata": {
        "colab": {
          "base_uri": "https://localhost:8080/"
        },
        "id": "BOFUZ3c7Pcn7",
        "outputId": "0fa167d4-ac5d-44d6-d6c9-410f69a304b7"
      },
      "execution_count": 33,
      "outputs": [
        {
          "output_type": "stream",
          "name": "stdout",
          "text": [
            "The third element is: cherry\n"
          ]
        }
      ]
    },
    {
      "cell_type": "code",
      "source": [
        "#29.  Write a code to combine two dictionaries into one and print the result\n",
        "dict1 = {'a': 1, 'b': 2}\n",
        "dict2 = {'c': 3, 'd': 4}\n",
        "combined_dict = {**dict1, **dict2}\n",
        "print(\"Combined dictionary:\", combined_dict)"
      ],
      "metadata": {
        "colab": {
          "base_uri": "https://localhost:8080/"
        },
        "id": "o6T2Spq7PijF",
        "outputId": "0f1fcc32-8863-40d1-f64b-6c9f1fb9bc63"
      },
      "execution_count": 34,
      "outputs": [
        {
          "output_type": "stream",
          "name": "stdout",
          "text": [
            "Combined dictionary: {'a': 1, 'b': 2, 'c': 3, 'd': 4}\n"
          ]
        }
      ]
    },
    {
      "cell_type": "code",
      "source": [
        "#30.  Write a code to convert a list of strings into a set.\n",
        "numbers = {\"1\", \"2\", \"3\", \"2\", \"1\"}\n",
        "print(numbers)\n",
        "\n"
      ],
      "metadata": {
        "colab": {
          "base_uri": "https://localhost:8080/"
        },
        "id": "UrCKMbyyS6KY",
        "outputId": "74060e72-d815-4606-8020-ffe4afb2c860"
      },
      "execution_count": 64,
      "outputs": [
        {
          "output_type": "stream",
          "name": "stdout",
          "text": [
            "{'3', '2', '1'}\n"
          ]
        }
      ]
    }
  ]
}