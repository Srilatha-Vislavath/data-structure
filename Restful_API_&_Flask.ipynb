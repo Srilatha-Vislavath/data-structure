{
  "nbformat": 4,
  "nbformat_minor": 0,
  "metadata": {
    "colab": {
      "provenance": []
    },
    "kernelspec": {
      "name": "python3",
      "display_name": "Python 3"
    },
    "language_info": {
      "name": "python"
    }
  },
  "cells": [
    {
      "cell_type": "markdown",
      "source": [
        "1. What is a RESTful API?\n",
        "\n",
        "A. A RESTful API is a way for applications to communicate over the internet using standard HTTP methods like GET, POST, PUT, and DELETE. It treats data as resources, each identified by a unique URL, and follows principles like stateless communication and a uniform interface. RESTful APIs are widely used for building scalable and easy-to-use web services, often exchanging data in JSON format.\n"
      ],
      "metadata": {
        "id": "tKL6kwD5E_t1"
      }
    },
    {
      "cell_type": "markdown",
      "source": [
        "2. Explain the concept of API specification\n",
        "\n",
        "A. An API specification is a detailed document or standard that defines how an API works. It describes the endpoints (URLs), request methods (like GET or POST), required inputs (parameters, headers), expected responses (data format, status codes), and error messages. This specification serves as a contract between the API provider and users, ensuring both sides know how to communicate correctly. Common formats include OpenAPI (Swagger) and RAML, which also help generate documentation and client/server code automatically."
      ],
      "metadata": {
        "id": "wGp-REcrFjnp"
      }
    },
    {
      "cell_type": "markdown",
      "source": [
        "3. What is Flask, and why is it popular for building APIs\n",
        "\n",
        "A. Flask is a lightweight Python web framework used to build web applications and APIs. It is popular because it’s easy to learn, flexible, and requires minimal setup. Flask supports custom routing and can be easily extended with libraries, making it ideal for quickly developing RESTful APIs."
      ],
      "metadata": {
        "id": "PN_3YSAnFt20"
      }
    },
    {
      "cell_type": "markdown",
      "source": [
        "4. What is routing in Flask\n",
        "\n",
        "A. Routing in Flask is the process of mapping URLs to specific functions in your application. These functions, called view functions, define what should happen when a user visits a particular URL. You use the @app.route() decorator to set up a route."
      ],
      "metadata": {
        "id": "7XiIeYkjGA6c"
      }
    },
    {
      "cell_type": "markdown",
      "source": [
        "5.  How do you create a simple Flask application\n",
        "\n",
        "A. To create a simple Flask application, you import Flask, create an app instance, define a route using @app.route, and write a function to handle that route. Finally, you run the app using app.run(). This allows your application to respond to web requests, such as displaying \"Hello, Flask!\" at the home page.\n",
        "\n",
        "\n",
        "\n",
        "\n",
        "\n",
        "\n",
        "\n",
        "\n",
        "\n"
      ],
      "metadata": {
        "id": "XkcUiycPGIza"
      }
    },
    {
      "cell_type": "markdown",
      "source": [
        "6. What are HTTP methods used in RESTful APIs\n",
        "\n",
        "A. HTTP methods in RESTful APIs define the type of operation to perform on a resource. The main methods are GET (retrieve data), POST (create new data), PUT (update existing data), PATCH (partially update data), and DELETE (remove data). These methods support the core CRUD operations: Create, Read, Update, and Delete."
      ],
      "metadata": {
        "id": "_rTLfbMoGVWM"
      }
    },
    {
      "cell_type": "markdown",
      "source": [
        "7.  What is the purpose of the @app.route() decorator in Flask\n",
        "\n",
        "A. The @app.route() decorator in Flask is used to define the URL path (route) that triggers a specific function when accessed. It links a web address to a Python function, allowing the app to respond to requests at that route. For example, @app.route('/') maps the homepage (/) to a function that returns a response.\n",
        "\n",
        "\n",
        "\n",
        "\n",
        "\n",
        "\n",
        "\n",
        "\n",
        "\n"
      ],
      "metadata": {
        "id": "aWKTrFIDGhKl"
      }
    },
    {
      "cell_type": "markdown",
      "source": [
        "8. What is the difference between GET and POST HTTP methods\n",
        "\n",
        "A. The GET and POST HTTP methods differ mainly in how they send data and what they are used for:\n",
        "\n",
        "GET is used to retrieve data from the server. Data is sent through the URL (as query parameters), and it’s visible in the browser. It should not be used for sensitive data or operations that change data.\n",
        "\n",
        "POST is used to send data to the server, usually to create something. Data is sent in the request body, making it more secure and suitable for larger or sensitive data."
      ],
      "metadata": {
        "id": "-mT-tAOQG0PX"
      }
    },
    {
      "cell_type": "markdown",
      "source": [
        "9.  How do you handle errors in Flask APIs\n",
        "\n",
        "A. In Flask APIs, errors are handled using the @app.errorhandler() decorator to define custom responses for specific HTTP error codes like 404 or 500. You can also use try-except blocks inside routes to catch and handle exceptions. This ensures that the API returns clear and meaningful error messages to the client."
      ],
      "metadata": {
        "id": "df6eDuQbG92z"
      }
    },
    {
      "cell_type": "markdown",
      "source": [
        "10. How do you connect Flask to a SQL database\n",
        "\n",
        "A. To connect Flask to a SQL database, you typically use an extension like Flask-SQLAlchemy, which simplifies database integration. First, install it using pip install flask-sqlalchemy. Then, configure the database URI in your Flask app and initialize the database object."
      ],
      "metadata": {
        "id": "40IAyteEJpqk"
      }
    },
    {
      "cell_type": "markdown",
      "source": [
        "11. What is the role of Flask-SQLAlchemy\n",
        "\n",
        "A. Flask-SQLAlchemy is an extension for Flask that simplifies working with SQL databases using SQLAlchemy, a powerful Object Relational Mapper (ORM). It allows you to interact with databases using Python classes instead of writing raw SQL queries. With Flask-SQLAlchemy, you can define models, perform CRUD operations, and manage database connections easily."
      ],
      "metadata": {
        "id": "1PjZ5Ix0Jx6U"
      }
    },
    {
      "cell_type": "markdown",
      "source": [
        "12. What are Flask blueprints, and how are they useful\n",
        "\n",
        "A. Flask Blueprints are a way to organize a Flask application into smaller, reusable components or modules. Each blueprint can contain its own routes, templates, and static files. This helps in keeping the code clean and manageable, especially in large applications.\n",
        "\n",
        "In short, Flask blueprints allow you to split your app into modular parts, making it easier to develop, maintain, and scale."
      ],
      "metadata": {
        "id": "jFNov8UKJ6Ut"
      }
    },
    {
      "cell_type": "markdown",
      "source": [
        "13. What is the purpose of Flask's request object\n",
        "\n",
        "A. The request object in Flask is used to access data sent by the client during an HTTP request. It allows you to retrieve form data, query parameters, JSON payloads, headers, and more.\n",
        "\n",
        "In short, Flasks request object provides access to incoming request data, helping you handle inputs from users or other systems."
      ],
      "metadata": {
        "id": "MxGr5WLgKCE4"
      }
    },
    {
      "cell_type": "markdown",
      "source": [
        "14. How do you create a RESTful API endpoint using Flask\n",
        "\n",
        "A. o create a RESTful API endpoint in Flask, you use the @app.route() decorator with the desired URL and HTTP method. Inside the associated function, you handle the logic and return a response, usually in JSON format using jsonify(). This allows the Flask app to respond to API requests in a structured way."
      ],
      "metadata": {
        "id": "uOy5wvPdKLOQ"
      }
    },
    {
      "cell_type": "markdown",
      "source": [
        "15. What is the purpose of Flask's jsonify() function\n",
        "\n",
        "A. The purpose of Flask's jsonify() function is to convert Python data types (like dictionaries or lists) into a proper JSON response that can be sent to the client. It also sets the correct Content-Type (application/json) in the HTTP response header.\n",
        "\n",
        "In short, jsonify() is used to create well-formatted JSON responses in Flask APIs."
      ],
      "metadata": {
        "id": "pK7R_4lgKVWy"
      }
    },
    {
      "cell_type": "markdown",
      "source": [
        "16.  Explain Flask’s url_for() function\n",
        "\n",
        "A. Flask’s url_for() function generates URLs dynamically based on the name of a view function. Instead of hardcoding URLs, it ensures links are updated automatically if routes change. This makes the app easier to maintain and avoids broken links."
      ],
      "metadata": {
        "id": "XWY47m7FPibs"
      }
    },
    {
      "cell_type": "markdown",
      "source": [
        "17.  How does Flask handle static files (CSS, JavaScript, etc.)\n",
        "\n",
        "A. Flask handles static files like CSS, JavaScript, and images by serving them from a special static/ folder in your project directory. You can access these files in your HTML using the url_for('static', filename='path/to/file') function."
      ],
      "metadata": {
        "id": "WKzGhwjsPsxu"
      }
    },
    {
      "cell_type": "markdown",
      "source": [
        "18. What is an API specification, and how does it help in building a Flask API\n",
        "\n",
        "A. An API specification is a detailed description of how an API should work, including its endpoints, HTTP methods, input parameters, request/response formats, and error codes. It acts as a contract between the backend and frontend or external clients."
      ],
      "metadata": {
        "id": "ScbqPDnfP0gC"
      }
    },
    {
      "cell_type": "markdown",
      "source": [
        "19. What are HTTP status codes, and why are they important in a Flask API\n",
        "\n",
        "A. HTTP status codes are standardized codes returned by a server to indicate the result of a client's request. They help communicate whether a request was successful, caused an error, or needs further action."
      ],
      "metadata": {
        "id": "Nl6dB-YrP7yL"
      }
    },
    {
      "cell_type": "markdown",
      "source": [
        "20.  How do you handle POST requests in Flask\n",
        "\n",
        "A. In Flask, POST requests are handled by defining a route with methods=['POST'] and using the request object to access incoming data, such as form inputs or JSON. This allows the server to receive and process data sent by the client, typically for creating new resources.\n",
        "\n",
        "\n",
        "\n",
        "\n",
        "\n",
        "\n",
        "\n",
        "\n",
        "\n"
      ],
      "metadata": {
        "id": "VQ6N5DuDQDQJ"
      }
    },
    {
      "cell_type": "markdown",
      "source": [
        "21. How would you secure a Flask API\n",
        "\n",
        "A. To secure a Flask API, you can implement several measures such as authentication and authorization (using tokens like JWT), input validation to prevent attacks like SQL injection, and HTTPS to encrypt data in transit. You should also handle errors properly, limit request rates (rate limiting), and protect against CSRF and CORS issues."
      ],
      "metadata": {
        "id": "GQJWZ8IeQNsC"
      }
    },
    {
      "cell_type": "markdown",
      "source": [
        "22. What is the significance of the Flask-RESTful extension\n",
        "\n",
        "A. Flask-RESTful is an extension for Flask that simplifies building RESTful APIs by providing tools to quickly create resources, handle HTTP methods, and format responses. It organizes code better using classes and improves readability."
      ],
      "metadata": {
        "id": "DZPgxfd_QWIT"
      }
    },
    {
      "cell_type": "markdown",
      "source": [
        "23. What is the role of Flask’s session object\n",
        "\n",
        "A. Flask’s session object is used to store data across multiple requests from the same user, such as login status or user preferences. It uses a secure cookie to keep data on the client side, signed with a secret key to prevent tampering."
      ],
      "metadata": {
        "id": "4kfTuAf2Qbfm"
      }
    },
    {
      "cell_type": "code",
      "source": [
        "# 1] How do you create a basic Flask application\n",
        "pip install flask\n",
        "from flask import Flask\n",
        "\n",
        "app = Flask(__name__)\n",
        "\n",
        "@app.route('/')\n",
        "def home():\n",
        "    return 'Hello from Flask!'\n",
        "\n",
        "if __name__ == '__main__':\n",
        "    app.run(debug=True)\n",
        "\n",
        "python app.py"
      ],
      "metadata": {
        "id": "_Xp7gWZPcciB"
      },
      "execution_count": null,
      "outputs": []
    },
    {
      "cell_type": "code",
      "source": [
        "# 2] How do you serve static files like images or CSS in Flask\n",
        "from flask import Flask, render_template\n",
        "\n",
        "app = Flask(__name__)\n",
        "\n",
        "@app.route('/')\n",
        "def home():\n",
        "    return render_template('index.html')\n",
        "\n",
        "if __name__ == '__main__':\n",
        "    app.run(debug=True)\n",
        "\n",
        "#templates/index.html\n",
        "\n",
        "\n",
        "\n",
        "\n",
        "\n",
        "\n",
        "    Welcome to Flask!\n",
        "\n",
        "\n",
        "\n",
        "\n",
        "#static/style.css\n",
        "body {\n",
        "    background-color: #f0f0f0;\n",
        "    text-align: center;\n",
        "    font-family: Arial;\n",
        "}\n",
        "\n",
        "\n",
        "python app.py    #Run in terminal"
      ],
      "metadata": {
        "id": "dbP2rDc4cgUn"
      },
      "execution_count": null,
      "outputs": []
    },
    {
      "cell_type": "code",
      "source": [
        "# 3] How do you define different routes with different HTTP methods in Flask\n",
        "from flask import Flask, request, jsonify\n",
        "\n",
        "app = Flask(__name__)\n",
        "\n",
        "# GET method\n",
        "@app.route('/hello', methods=['GET'])\n",
        "def hello():\n",
        "    return 'Hello, GET method!'\n",
        "\n",
        "# POST method\n",
        "@app.route('/submit', methods=['POST'])\n",
        "def submit():\n",
        "    data = request.get_json()\n",
        "    return jsonify({'received': data})\n",
        "\n",
        "# Multiple methods on same route\n",
        "@app.route('/user', methods=['GET', 'POST'])\n",
        "def user():\n",
        "    if request.method == 'POST':\n",
        "        return 'User Created'\n",
        "    else:\n",
        "        return 'User Info'\n",
        "\n",
        "if __name__ == '__main__':\n",
        "    app.run(debug=True)"
      ],
      "metadata": {
        "id": "V3RWM8XGcifm"
      },
      "execution_count": null,
      "outputs": []
    },
    {
      "cell_type": "code",
      "source": [
        "# 4] How do you render HTML templates in Flask\n",
        "from flask import Flask, render_template\n",
        "\n",
        "app = Flask(__name__)\n",
        "\n",
        "@app.route('/')\n",
        "def home():\n",
        "    return render_template('home.html')\n",
        "\n",
        "if __name__ == '__main__':\n",
        "    app.run(debug=True)\n",
        "\n",
        "#templates/home.html\n",
        "\n",
        "\n",
        "\n",
        "    Flask Template\n",
        "\n",
        "\n",
        "    Welcome to Flask Template Rendering!\n",
        "\n",
        "\n",
        "\n",
        "python app.py   #run in terminal"
      ],
      "metadata": {
        "id": "JKap-wwKckaa"
      },
      "execution_count": null,
      "outputs": []
    },
    {
      "cell_type": "code",
      "source": [
        "# 5] How can you generate URLs for routes in Flask using url_for\n",
        "from flask import Flask, url_for, render_template\n",
        "\n",
        "app = Flask(__name__)\n",
        "\n",
        "@app.route('/')\n",
        "def home():\n",
        "    return render_template('home.html')\n",
        "\n",
        "@app.route('/profile/')\n",
        "def profile(username):\n",
        "    return f'Profile page of {username}'\n",
        "\n",
        "if __name__ == '__main__':\n",
        "    app.run(debug=True)\n",
        "\n",
        "#templates/home.html\n",
        "\n",
        "\n",
        "\n",
        "    Home\n",
        "\n",
        "\n",
        "    Welcome!\n",
        "    Go to Abhishek's Profile\n",
        "\n",
        "\n",
        "\n",
        "#Generates: /profile/abhishek instead of hardcoding"
      ],
      "metadata": {
        "id": "1a-TQi9wcmqr"
      },
      "execution_count": null,
      "outputs": []
    },
    {
      "cell_type": "code",
      "source": [
        "# 6]How do you handle forms in Flask\n",
        "from flask import Flask, render_template, request\n",
        "\n",
        "app = Flask(__name__)\n",
        "\n",
        "@app.route('/form', methods=['GET', 'POST'])\n",
        "def form():\n",
        "    if request.method == 'POST':\n",
        "        name = request.form['name']\n",
        "        return render_template('result.html', name=name)\n",
        "    return render_template('form.html')\n",
        "\n",
        "if __name__ == '__main__':\n",
        "    app.run(debug=True)\n",
        "\n",
        "#templates/form.html\n",
        "\n",
        "\n",
        "Form\n",
        "\n",
        "    Enter your name:\n",
        "\n",
        "\n",
        "\n",
        "\n",
        "\n",
        "\n",
        "\n",
        "#templates/result.html\n",
        "\n",
        "\n",
        "Result\n",
        "\n",
        "    Hello, {{ name }}!\n",
        "\n",
        "\n",
        "\n",
        "python app.py #run in terminal"
      ],
      "metadata": {
        "id": "xsQWnpgOcotW"
      },
      "execution_count": null,
      "outputs": []
    },
    {
      "cell_type": "code",
      "source": [
        "# 7] How can you validate form data in Flask\n",
        "from flask import Flask, session, redirect, url_for, request, render_template\n",
        "\n",
        "app = Flask(__name__)\n",
        "app.secret_key = 'your_secret_key'  # Needed for session encryption\n",
        "\n",
        "@app.route('/')\n",
        "def home():\n",
        "    if 'username' in session:\n",
        "        return redirect(url_for('dashboard'))\n",
        "    return redirect(url_for('login'))\n",
        "\n",
        "@app.route('/login', methods=['GET', 'POST'])\n",
        "def login():\n",
        "    if request.method == 'POST':\n",
        "        session['username'] = request.form['username']\n",
        "        return redirect(url_for('dashboard'))\n",
        "    return render_template('login.html')\n",
        "\n",
        "@app.route('/dashboard')\n",
        "def dashboard():\n",
        "    if 'username' in session:\n",
        "        return render_template('dashboard.html', name=session['username'])\n",
        "    return redirect(url_for('login'))\n",
        "\n",
        "@app.route('/logout')\n",
        "def logout():\n",
        "    session.pop('username', None)\n",
        "    return redirect(url_for('login'))\n",
        "\n",
        "if __name__ == '__main__':\n",
        "    app.run(debug=True)\n",
        "\n",
        "#templates/login.html\n",
        "\n",
        "\n",
        "Login\n",
        "\n",
        "    Login\n",
        "\n",
        "\n",
        "\n",
        "\n",
        "\n",
        "\n",
        "\n",
        "#templates/disboard.html\n",
        "\n",
        "\n",
        "Dashboard\n",
        "\n",
        "    Welcome, {{ name }}!\n",
        "    Logout\n",
        "\n",
        "\n",
        "\n",
        "python app.py #run in terminal"
      ],
      "metadata": {
        "id": "fnd4Z_FicrGI"
      },
      "execution_count": null,
      "outputs": []
    },
    {
      "cell_type": "code",
      "source": [
        "# 8]How do you manage sessions in Flask\n",
        "from flask import Flask, session, redirect, url_for, request\n",
        "\n",
        "app = Flask(__name__)\n",
        "app.secret_key = 'replace_with_random_secret'\n",
        "\n",
        "@app.route('/', methods=['GET', 'POST'])\n",
        "def login():\n",
        "    if request.method == 'POST':\n",
        "        session['username'] = request.form['username']\n",
        "        return redirect(url_for('dashboard'))\n",
        "    return '''\n",
        "\n",
        "\n",
        "\n",
        "        '''\n",
        "\n",
        "@app.route('/dashboard')\n",
        "def dashboard():\n",
        "    if 'username' in session:\n",
        "        return f\"Hello, {session['username']}! Logout\"\n",
        "    return redirect(url_for('login'))\n",
        "\n",
        "@app.route('/logout')\n",
        "def logout():\n",
        "    session.pop('username', None)\n",
        "    return redirect(url_for('login'))\n",
        "\n",
        "if __name__ == '__main__':\n",
        "    app.run(debug=True)\n",
        "\n",
        "#Save as app.py, run with python app.py"
      ],
      "metadata": {
        "id": "5xNzmojqct5I"
      },
      "execution_count": null,
      "outputs": []
    },
    {
      "cell_type": "code",
      "source": [
        "# 9] How do you redirect to a different route in Flask\n",
        "from flask import Flask, redirect, url_for\n",
        "\n",
        "app = Flask(__name__)\n",
        "\n",
        "@app.route('/')\n",
        "def home():\n",
        "    return redirect(url_for('dashboard'))\n",
        "\n",
        "@app.route('/dashboard')\n",
        "def dashboard():\n",
        "    return 'Welcome to Dashboard!'\n",
        "\n",
        "if __name__ == '__main__':\n",
        "    app.run(debug=True)\n"
      ],
      "metadata": {
        "id": "rtHSYwSYcwTn"
      },
      "execution_count": null,
      "outputs": []
    },
    {
      "cell_type": "code",
      "source": [
        "# 10] How do you handle errors in Flask (e.g., 404)\n",
        "# Use @app.errorhandler decorator\n",
        "from flask import Flask, render_template\n",
        "\n",
        "app = Flask(__name__)\n",
        "\n",
        "@app.route('/')\n",
        "def home():\n",
        "    return 'Home Page'\n",
        "\n",
        "# Handle 404 error\n",
        "@app.errorhandler(404)\n",
        "def page_not_found(e):\n",
        "    return render_template('404.html'), 404\n",
        "\n",
        "# Handle 500 error\n",
        "@app.errorhandler(500)\n",
        "def server_error(e):\n",
        "    return render_template('500.html'), 500\n",
        "\n",
        "if __name__ == '__main__':\n",
        "    app.run(debug=True)\n",
        "\n",
        "#Create error templates in /templates folder\n",
        "#templates/404.html\n",
        "404 - Page Not Found\n",
        "Oops! The page you're looking for doesn't exist.\n",
        "\n",
        "#templates/500.html\n",
        "500 - Server Error\n",
        "Something went wrong on our end.\n"
      ],
      "metadata": {
        "id": "Vs5bW5b9cyWu"
      },
      "execution_count": null,
      "outputs": []
    },
    {
      "cell_type": "code",
      "source": [
        "# 11] How do you structure a Flask app using Blueprints\n",
        "#main/routes.py\n",
        "from flask import Blueprint\n",
        "\n",
        "main = Blueprint('main', __name__)\n",
        "\n",
        "@main.route('/')\n",
        "def home():\n",
        "    return 'Home from Blueprint!'\n",
        "\n",
        "#main/__init__.py ----> to mark the folder as a package — can be empty or contain init logic\n",
        "\n",
        "#app.py\n",
        "from flask import Flask\n",
        "from main.routes import main\n",
        "\n",
        "app = Flask(__name__)\n",
        "app.register_blueprint(main)\n",
        "\n",
        "if __name__ == '__main__':\n",
        "    app.run(debug=True)"
      ],
      "metadata": {
        "id": "ftxKwCBwc11D"
      },
      "execution_count": null,
      "outputs": []
    },
    {
      "cell_type": "code",
      "source": [
        "# 12] How do you define a custom Jinja filter in Flask\n",
        "# app.py\n",
        "from flask import Flask, render_template\n",
        "\n",
        "app = Flask(__name__)\n",
        "\n",
        "# Define custom filter\n",
        "def reverse_string(s):\n",
        "    return s[::-1]\n",
        "\n",
        "# Register the filter with Jinja\n",
        "app.jinja_env.filters['reverse'] = reverse_string\n",
        "\n",
        "@app.route('/')\n",
        "def home():\n",
        "    return render_template('index.html', name=\"Abhishek\")\n",
        "\n",
        "if __name__ == '__main__':\n",
        "    app.run(debug=True)\n",
        "\n",
        "#templates/index.html\n",
        "\n",
        "\n",
        "Custom Filter\n",
        "\n",
        "    Original: {{ name }}\n",
        "    Reversed: {{ name | reverse }}\n",
        "\n",
        "\n",
        "\n",
        "# output: Original: Abhishek\n",
        "#         Reversed: kehsihbA"
      ],
      "metadata": {
        "id": "RfdyOkYdc2hX"
      },
      "execution_count": null,
      "outputs": []
    },
    {
      "cell_type": "code",
      "source": [
        "# 13]  How can you redirect with query parameters in Flask\n",
        "from flask import Flask, redirect, url_for, request\n",
        "\n",
        "app = Flask(__name__)\n",
        "\n",
        "@app.route('/')\n",
        "def home():\n",
        "    # Redirect to /search with query parameters\n",
        "    return redirect(url_for('search', q='flask', page=2))\n",
        "\n",
        "@app.route('/search')\n",
        "def search():\n",
        "    q = request.args.get('q')\n",
        "    page = request.args.get('page')\n",
        "    return f\"Search query: {q}, Page: {page}\"\n",
        "\n",
        "if __name__ == '__main__':\n",
        "    app.run(debug=True)\n",
        "\n",
        "# output: url_for('search', q='flask', page=2) → /search?q=flask&page=2"
      ],
      "metadata": {
        "id": "p819mtqgc4lL"
      },
      "execution_count": null,
      "outputs": []
    },
    {
      "cell_type": "code",
      "source": [
        "# 14] How do you return JSON responses in Flask\n",
        "# use jsonify\n",
        "from flask import Flask, jsonify\n",
        "\n",
        "app = Flask(__name__)\n",
        "\n",
        "@app.route('/api/data')\n",
        "def get_data():\n",
        "    data = {\n",
        "        'name': 'Abhishek',\n",
        "        'role': 'Developer',\n",
        "        'skills': ['Python', 'Flask', 'SQL']\n",
        "    }\n",
        "    return jsonify(data)\n",
        "\n",
        "if __name__ == '__main__':\n",
        "    app.run(debug=True)\n",
        "\n",
        "# '''Output at /api/data\n",
        "{\n",
        "  \"name\": \"Abhishek\",\n",
        "  \"role\": \"Developer\",\n",
        "  \"skills\": [\"Python\", \"Flask\", \"SQL\"]\n",
        "}'''"
      ],
      "metadata": {
        "id": "Nv6itZ7Mc6nQ"
      },
      "execution_count": null,
      "outputs": []
    },
    {
      "cell_type": "code",
      "source": [
        "# 15]  How do you capture URL parameters in Flask\n",
        "# Use  in the route\n",
        "from flask import Flask\n",
        "\n",
        "app = Flask(__name__)\n",
        "\n",
        "@app.route('/user/')\n",
        "def show_user(username):\n",
        "    return f'Hello, {username}!'\n",
        "\n",
        "@app.route('/post/')\n",
        "def show_post(post_id):\n",
        "    return f'Post ID: {post_id}'\n",
        "\n",
        "if __name__ == '__main__':\n",
        "    app.run(debug=True)"
      ],
      "metadata": {
        "id": "1kKN0hP7c9tL"
      },
      "execution_count": null,
      "outputs": []
    }
  ]
}